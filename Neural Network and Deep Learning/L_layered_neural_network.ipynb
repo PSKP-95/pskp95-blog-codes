{
 "cells": [
  {
   "cell_type": "code",
   "execution_count": 1,
   "metadata": {
    "colab": {},
    "colab_type": "code",
    "id": "m-kJoI7bAJlF"
   },
   "outputs": [],
   "source": [
    "import numpy as np\n",
    "import matplotlib.pyplot as plt"
   ]
  },
  {
   "cell_type": "code",
   "execution_count": 2,
   "metadata": {
    "colab": {},
    "colab_type": "code",
    "id": "OV3TxPbvYuL7"
   },
   "outputs": [],
   "source": [
    "np.random.seed(0)"
   ]
  },
  {
   "cell_type": "code",
   "execution_count": 3,
   "metadata": {
    "colab": {},
    "colab_type": "code",
    "id": "hPf_u2HJY38d"
   },
   "outputs": [],
   "source": [
    "m = 20  # no of samples\n",
    "X = np.random.rand(3,m)\n",
    "Y = np.random.rand(1,m)"
   ]
  },
  {
   "cell_type": "code",
   "execution_count": 4,
   "metadata": {
    "colab": {},
    "colab_type": "code",
    "id": "eTd-xZfkY58x"
   },
   "outputs": [],
   "source": [
    "alpha = 0.1 # learning rate\n",
    "\n",
    "# units in each layer\n",
    "# first number (3) is input dimension\n",
    "units = [3, 4, 4, 4, 4, 3, 1]\n",
    "\n",
    "# Total layers\n",
    "L = len(units) - 1"
   ]
  },
  {
   "cell_type": "code",
   "execution_count": 5,
   "metadata": {
    "colab": {},
    "colab_type": "code",
    "id": "IdCto5_8Y8__"
   },
   "outputs": [],
   "source": [
    "# parameter dictionary\n",
    "parameters = dict()"
   ]
  },
  {
   "cell_type": "code",
   "execution_count": 6,
   "metadata": {
    "colab": {},
    "colab_type": "code",
    "id": "T0SNjjcwY_Io"
   },
   "outputs": [],
   "source": [
    "for layer in range(1, L+1):\n",
    "    parameters['W' + str(layer)] = np.random.rand(units[layer],units[layer-1])\n",
    "    parameters['b' + str(layer)] = np.zeros((units[layer],1))"
   ]
  },
  {
   "cell_type": "code",
   "execution_count": 7,
   "metadata": {
    "colab": {},
    "colab_type": "code",
    "id": "tjqF9GJJZCFe"
   },
   "outputs": [],
   "source": [
    "def sigmoid(X):\n",
    "    return 1 / (1 + np.exp(- X))\n",
    "\n",
    "def inv_sigmoid(X):\n",
    "    return sigmoid(X) * (1-sigmoid(X))"
   ]
  },
  {
   "cell_type": "code",
   "execution_count": 8,
   "metadata": {
    "colab": {},
    "colab_type": "code",
    "id": "OiuDO5jRZEfU"
   },
   "outputs": [],
   "source": [
    "cache = dict()\n",
    "cache['a0'] = X\n",
    "\n",
    "epochs = 100"
   ]
  },
  {
   "cell_type": "code",
   "execution_count": 9,
   "metadata": {
    "colab": {},
    "colab_type": "code",
    "id": "ePyHbGEeZSYf"
   },
   "outputs": [],
   "source": [
    "def forward_pass():\n",
    "  for layer in range(1, L+1):\n",
    "    cache['Z' + str(layer)] = np.dot(parameters['W' + str(layer)],cache['a' + str(layer-1)]) + parameters['b' + str(layer)]\n",
    "    cache['a' + str(layer)] = sigmoid(cache['Z' + str(layer)])"
   ]
  },
  {
   "cell_type": "code",
   "execution_count": 10,
   "metadata": {
    "colab": {},
    "colab_type": "code",
    "id": "D5iOQkqEZm2j"
   },
   "outputs": [],
   "source": [
    "def backward_pass():\n",
    "  y_hat = cache['a' + str(L)]\n",
    "  cost = np.sum(-(1/m) * (Y*np.log(y_hat)+(1-Y)*np.log(1-y_hat)))\n",
    "  costs.append(cost)\n",
    "\n",
    "  cache['dZ' + str(L)] = (1/m) * (y_hat - Y)\n",
    "  cache['dW' + str(L)] = np.dot(cache['dZ' + str(L)], cache['a' + str(L-1)].T)\n",
    "  cache['db' + str(L)] = np.sum(cache['dZ' + str(L)], axis=1, keepdims=True)\n",
    "\n",
    "  for layer in range(L-1,0,-1):\n",
    "      cache['dZ' + str(layer)] = np.dot(parameters['W' + str(layer+1)].T, cache['dZ' + str(layer+1)]) * inv_sigmoid(cache['Z' + str(layer)])\n",
    "      cache['dW' + str(layer)] = np.dot(cache['dZ' + str(layer)], cache['a' + str(layer-1)].T)\n",
    "      cache['db' + str(layer)] = np.sum(cache['dZ' + str(layer)], axis=1, keepdims=True)"
   ]
  },
  {
   "cell_type": "code",
   "execution_count": 11,
   "metadata": {
    "colab": {},
    "colab_type": "code",
    "id": "HJbORNHsZ0cn"
   },
   "outputs": [],
   "source": [
    "def update_weights():\n",
    "  for layer in range(1, L+1):\n",
    "      parameters['W' + str(layer)] = parameters['W' + str(layer)] - alpha * cache['dW' + str(layer)]\n",
    "      parameters['b' + str(layer)] = parameters['b' + str(layer)] - alpha * cache['db' + str(layer)]"
   ]
  },
  {
   "cell_type": "code",
   "execution_count": 12,
   "metadata": {
    "colab": {},
    "colab_type": "code",
    "id": "UilHJSH-ZG-9"
   },
   "outputs": [],
   "source": [
    "costs = []\n",
    "for epoch in range(epochs):\n",
    "    forward_pass()\n",
    "    \n",
    "    backward_pass()\n",
    "\n",
    "    update_weights()"
   ]
  },
  {
   "cell_type": "code",
   "execution_count": 13,
   "metadata": {
    "colab": {
     "base_uri": "https://localhost:8080/",
     "height": 282
    },
    "colab_type": "code",
    "id": "sBFispHDZK9j",
    "outputId": "582974e5-0dd6-4446-ce19-40fb82d86496"
   },
   "outputs": [
    {
     "data": {
      "text/plain": [
       "[<matplotlib.lines.Line2D at 0x7ffa94bd1150>]"
      ]
     },
     "execution_count": 13,
     "metadata": {},
     "output_type": "execute_result"
    },
    {
     "data": {
      "image/png": "[encoded data removed]",
      "text/plain": [
       "<Figure size 432x288 with 1 Axes>"
      ]
     },
     "metadata": {
      "needs_background": "light"
     },
     "output_type": "display_data"
    }
   ],
   "source": [
    "plt.plot(costs)"
   ]
  },
  {
   "cell_type": "code",
   "execution_count": null,
   "metadata": {
    "colab": {},
    "colab_type": "code",
    "id": "ST2QrRnSaAer"
   },
   "outputs": [],
   "source": []
  }
 ],
 "metadata": {
  "colab": {
   "collapsed_sections": [],
   "name": "L-layered_neural_network",
   "provenance": []
  },
  "kernelspec": {
   "display_name": "Python 3",
   "language": "python",
   "name": "python3"
  },
  "language_info": {
   "codemirror_mode": {
    "name": "ipython",
    "version": 3
   },
   "file_extension": ".py",
   "mimetype": "text/x-python",
   "name": "python",
   "nbconvert_exporter": "python",
   "pygments_lexer": "ipython3",
   "version": "3.7.4"
  }
 },
 "nbformat": 4,
 "nbformat_minor": 4
}
